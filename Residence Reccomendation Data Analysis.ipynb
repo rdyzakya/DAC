{
 "cells": [
  {
   "cell_type": "markdown",
   "metadata": {},
   "source": [
    "## Attachment"
   ]
  },
  {
   "cell_type": "markdown",
   "metadata": {},
   "source": [
    "# Residence Reccomendation Data Analysis"
   ]
  },
  {
   "cell_type": "code",
   "execution_count": 112,
   "metadata": {
    "id": "NSXD-LRX_JF7"
   },
   "outputs": [],
   "source": [
    "import pandas as pd\n",
    "import numpy as np\n",
    "import matplotlib.pyplot as plt"
   ]
  },
  {
   "cell_type": "code",
   "execution_count": 113,
   "metadata": {
    "id": "AFVZKI_98qbk"
   },
   "outputs": [],
   "source": [
    "# df = pd.read_csv('https://raw.githubusercontent.com/rdyzakya/DAC/master/Train.csv?token=ANMX7UVSDMRT7YXXECIV3KLA7T7TW')\n",
    "df = pd.read_csv('Train.csv')"
   ]
  },
  {
   "cell_type": "markdown",
   "metadata": {
    "id": "R_50VPLW_Lpn"
   },
   "source": [
    "# Check data information"
   ]
  },
  {
   "cell_type": "code",
   "execution_count": 114,
   "metadata": {
    "colab": {
     "base_uri": "https://localhost:8080/"
    },
    "id": "oVV4y3E5_LCB",
    "outputId": "7c435227-e94e-4ce8-a52c-9d219b81794a",
    "scrolled": true
   },
   "outputs": [
    {
     "name": "stdout",
     "output_type": "stream",
     "text": [
      "<class 'pandas.core.frame.DataFrame'>\n",
      "RangeIndex: 343583 entries, 0 to 343582\n",
      "Data columns (total 24 columns):\n",
      " #   Column             Non-Null Count   Dtype  \n",
      "---  ------             --------------   -----  \n",
      " 0   time_date          343583 non-null  object \n",
      " 1   site               343583 non-null  int64  \n",
      " 2   continent_id       343583 non-null  int64  \n",
      " 3   buyer_country      343583 non-null  int64  \n",
      " 4   buyer_region       343583 non-null  int64  \n",
      " 5   buyer_city         343583 non-null  int64  \n",
      " 6   distance           145685 non-null  float64\n",
      " 7   buyer_id           343583 non-null  int64  \n",
      " 8   mobile             343583 non-null  int64  \n",
      " 9   package            343583 non-null  int64  \n",
      " 10  channel_id         343583 non-null  int64  \n",
      " 11  buying_date        342885 non-null  object \n",
      " 12  dealing_date       342885 non-null  object \n",
      " 13  adults             343583 non-null  int64  \n",
      " 14  children           343583 non-null  int64  \n",
      " 15  room               343583 non-null  int64  \n",
      " 16  destination_id     343583 non-null  int64  \n",
      " 17  destination_type   343583 non-null  int64  \n",
      " 18  dealing            343583 non-null  int64  \n",
      " 19  regency_continent  343583 non-null  int64  \n",
      " 20  regency_country    343583 non-null  int64  \n",
      " 21  regency_market     343583 non-null  int64  \n",
      " 22  cnt                343583 non-null  int64  \n",
      " 23  regency_cluster    343583 non-null  int64  \n",
      "dtypes: float64(1), int64(20), object(3)\n",
      "memory usage: 62.9+ MB\n"
     ]
    }
   ],
   "source": [
    "#delete unnecessary column\n",
    "del df['Unnamed: 0']\n",
    "\n",
    "#check information\n",
    "df.info()"
   ]
  },
  {
   "cell_type": "markdown",
   "metadata": {
    "id": "9yUdukGG_mix"
   },
   "source": [
    "Drop cnt, dealing, buyer_id to match the Test.csv"
   ]
  },
  {
   "cell_type": "code",
   "execution_count": 115,
   "metadata": {
    "id": "dshv7-Q__qBs"
   },
   "outputs": [],
   "source": [
    "#since Test.csv doesn't have cnt and dealing it's best to drop it\n",
    "#and drop the buyer_id as the buyer_id isn't needed for the modelling\n",
    "df = df.drop(labels=['cnt','buyer_id','dealing'],axis=1)"
   ]
  },
  {
   "cell_type": "markdown",
   "metadata": {
    "id": "rNiciiwQ_RwQ"
   },
   "source": [
    "There are null values in the distance, buying_date, dealing_date, before dropping any null values, check class loss in the categoric variables"
   ]
  },
  {
   "cell_type": "code",
   "execution_count": 116,
   "metadata": {
    "id": "wb20xABd_KBS"
   },
   "outputs": [],
   "source": [
    "#checking the unique values of each columns\n",
    "def check_classloss(df,nclabel=[],dropped_label=[]):\n",
    "  df2 = df.dropna(subset=dropped_label)\n",
    "  df2 = df2.drop(labels=nclabel,axis=1)\n",
    "  uni_len = {}\n",
    "  for col in df2.columns:\n",
    "    uni_len[col] = len(df2[col].unique())\n",
    "  return uni_len"
   ]
  },
  {
   "cell_type": "code",
   "execution_count": 117,
   "metadata": {
    "id": "gCyHn9VT_vDv"
   },
   "outputs": [],
   "source": [
    "drop_nothing = check_classloss(df,['distance','time_date','buying_date','dealing_date'],[])\n",
    "drop_allna = check_classloss(df,['distance','time_date','buying_date','dealing_date'],['distance','buying_date','dealing_date'])\n",
    "drop_distance = check_classloss(df,['distance','time_date','buying_date','dealing_date'],['distance'])\n",
    "drop_bdate = check_classloss(df,['distance','time_date','buying_date','dealing_date'],['buying_date'])\n",
    "drop_ddate = check_classloss(df,['distance','time_date','buying_date','dealing_date'],['dealing_date'])"
   ]
  },
  {
   "cell_type": "code",
   "execution_count": 118,
   "metadata": {
    "colab": {
     "base_uri": "https://localhost:8080/"
    },
    "id": "d0grOe0T_w2R",
    "outputId": "74dc1a88-f456-41cb-e0bc-75b22e250661"
   },
   "outputs": [
    {
     "data": {
      "text/plain": [
       "{'site': 30,\n",
       " 'continent_id': 5,\n",
       " 'buyer_country': 155,\n",
       " 'buyer_region': 653,\n",
       " 'buyer_city': 7256,\n",
       " 'mobile': 2,\n",
       " 'package': 2,\n",
       " 'channel_id': 11,\n",
       " 'adults': 10,\n",
       " 'children': 9,\n",
       " 'room': 9,\n",
       " 'destination_id': 9831,\n",
       " 'destination_type': 8,\n",
       " 'regency_continent': 40,\n",
       " 'regency_country': 6,\n",
       " 'regency_market': 179,\n",
       " 'regency_cluster': 100}"
      ]
     },
     "execution_count": 118,
     "metadata": {},
     "output_type": "execute_result"
    }
   ],
   "source": [
    "#if drop nothing\n",
    "drop_nothing"
   ]
  },
  {
   "cell_type": "code",
   "execution_count": 119,
   "metadata": {
    "colab": {
     "base_uri": "https://localhost:8080/"
    },
    "id": "wlfgZYEj_05R",
    "outputId": "07a3b833-32ac-4771-8b2a-966fb1ab196a"
   },
   "outputs": [
    {
     "data": {
      "text/plain": [
       "{'site': 23,\n",
       " 'continent_id': 5,\n",
       " 'buyer_country': 17,\n",
       " 'buyer_region': 182,\n",
       " 'buyer_city': 3073,\n",
       " 'mobile': 2,\n",
       " 'package': 2,\n",
       " 'channel_id': 11,\n",
       " 'adults': 10,\n",
       " 'children': 8,\n",
       " 'room': 8,\n",
       " 'destination_id': 6636,\n",
       " 'destination_type': 8,\n",
       " 'regency_continent': 36,\n",
       " 'regency_country': 6,\n",
       " 'regency_market': 157,\n",
       " 'regency_cluster': 100}"
      ]
     },
     "execution_count": 119,
     "metadata": {},
     "output_type": "execute_result"
    }
   ],
   "source": [
    "#drop distance,buying_date,dealing_date\n",
    "drop_allna"
   ]
  },
  {
   "cell_type": "code",
   "execution_count": 120,
   "metadata": {
    "colab": {
     "base_uri": "https://localhost:8080/"
    },
    "id": "CDXhCzwT_7G_",
    "outputId": "cf5a2e5b-7f10-4207-b110-106be9e41e33"
   },
   "outputs": [
    {
     "data": {
      "text/plain": [
       "{'site': 23,\n",
       " 'continent_id': 5,\n",
       " 'buyer_country': 17,\n",
       " 'buyer_region': 182,\n",
       " 'buyer_city': 3074,\n",
       " 'mobile': 2,\n",
       " 'package': 2,\n",
       " 'channel_id': 11,\n",
       " 'adults': 10,\n",
       " 'children': 8,\n",
       " 'room': 8,\n",
       " 'destination_id': 6647,\n",
       " 'destination_type': 8,\n",
       " 'regency_continent': 36,\n",
       " 'regency_country': 6,\n",
       " 'regency_market': 157,\n",
       " 'regency_cluster': 100}"
      ]
     },
     "execution_count": 120,
     "metadata": {},
     "output_type": "execute_result"
    }
   ],
   "source": [
    "#drop distance only\n",
    "drop_distance"
   ]
  },
  {
   "cell_type": "code",
   "execution_count": 121,
   "metadata": {
    "colab": {
     "base_uri": "https://localhost:8080/"
    },
    "id": "grn-5neGABTQ",
    "outputId": "a4543d39-8c53-450f-8007-de02fedaa0a8"
   },
   "outputs": [
    {
     "data": {
      "text/plain": [
       "{'site': 30,\n",
       " 'continent_id': 5,\n",
       " 'buyer_country': 155,\n",
       " 'buyer_region': 653,\n",
       " 'buyer_city': 7249,\n",
       " 'mobile': 2,\n",
       " 'package': 2,\n",
       " 'channel_id': 11,\n",
       " 'adults': 10,\n",
       " 'children': 9,\n",
       " 'room': 8,\n",
       " 'destination_id': 9811,\n",
       " 'destination_type': 8,\n",
       " 'regency_continent': 40,\n",
       " 'regency_country': 6,\n",
       " 'regency_market': 179,\n",
       " 'regency_cluster': 100}"
      ]
     },
     "execution_count": 121,
     "metadata": {},
     "output_type": "execute_result"
    }
   ],
   "source": [
    "#drop buying_date\n",
    "drop_bdate"
   ]
  },
  {
   "cell_type": "code",
   "execution_count": 122,
   "metadata": {
    "colab": {
     "base_uri": "https://localhost:8080/"
    },
    "id": "7MX76UaBAhWA",
    "outputId": "2e35c024-653f-4309-afb8-b0d024f77335",
    "scrolled": false
   },
   "outputs": [
    {
     "data": {
      "text/plain": [
       "{'site': 30,\n",
       " 'continent_id': 5,\n",
       " 'buyer_country': 155,\n",
       " 'buyer_region': 653,\n",
       " 'buyer_city': 7249,\n",
       " 'mobile': 2,\n",
       " 'package': 2,\n",
       " 'channel_id': 11,\n",
       " 'adults': 10,\n",
       " 'children': 9,\n",
       " 'room': 8,\n",
       " 'destination_id': 9811,\n",
       " 'destination_type': 8,\n",
       " 'regency_continent': 40,\n",
       " 'regency_country': 6,\n",
       " 'regency_market': 179,\n",
       " 'regency_cluster': 100}"
      ]
     },
     "execution_count": 122,
     "metadata": {},
     "output_type": "execute_result"
    }
   ],
   "source": [
    "#drop dealing_date\n",
    "drop_ddate"
   ]
  },
  {
   "cell_type": "markdown",
   "metadata": {},
   "source": [
    "# Data Transformation"
   ]
  },
  {
   "cell_type": "markdown",
   "metadata": {},
   "source": [
    "since there are class losses in the categoric features if the distance/buying_date/dealing_date is dropped\n",
    "hence, decides to fill the null values"
   ]
  },
  {
   "cell_type": "code",
   "execution_count": 125,
   "metadata": {
    "id": "1szxm_LoA59M"
   },
   "outputs": [],
   "source": [
    "#extracting the dates for filling the null values\n",
    "\n",
    "#changing data types\n",
    "df['time_date'] = pd.to_datetime(df['time_date'])\n",
    "df['buying_date'] = pd.to_datetime(df['buying_date'])\n",
    "df['dealing_date'] = pd.to_datetime(df['dealing_date'])\n",
    "\n",
    "#time_date\n",
    "df['day_time_date'] = df['time_date'].dt.day\n",
    "df['month_time_date'] = df['time_date'].dt.month\n",
    "df['year_time_date'] = df['time_date'].dt.year\n",
    "\n",
    "#buying_date\n",
    "df['day_buying_date'] = df['buying_date'].dt.day\n",
    "df['month_buying_date'] = df['buying_date'].dt.month\n",
    "df['year_buying_date'] = df['buying_date'].dt.year\n",
    "\n",
    "#dealing_date\n",
    "df['day_dealing_date'] = df['dealing_date'].dt.day\n",
    "df['month_dealing_date'] = df['dealing_date'].dt.month\n",
    "df['year_dealing_date'] = df['dealing_date'].dt.year\n",
    "\n",
    "#drop the dates\n",
    "df = df.drop(labels=['time_date','buying_date','dealing_date'],axis=1)"
   ]
  },
  {
   "cell_type": "markdown",
   "metadata": {},
   "source": [
    "## Fill Null Values"
   ]
  },
  {
   "cell_type": "code",
   "execution_count": 126,
   "metadata": {
    "id": "uglgDEYwA6nC"
   },
   "outputs": [],
   "source": [
    "df['distance_bin'] = pd.qcut(df['distance'],q=4,labels=[0,1,2,3])\n",
    "df['distance_bin'] = df['distance_bin'].cat.add_categories(-1)\n",
    "df['distance_bin'] = df['distance_bin'].fillna(value=-1)\n",
    "df['distance_bin'] = df['distance_bin'].astype(int).astype('category')\n",
    "\n",
    "#to bin the distance in Test.csv\n",
    "distance_bin = pd.qcut(df['distance'],q=4).unique()"
   ]
  },
  {
   "cell_type": "code",
   "execution_count": 127,
   "metadata": {
    "id": "YuS8_kunJYQS"
   },
   "outputs": [],
   "source": [
    "#fill null values with -1\n",
    "df = df.fillna(value=-1)"
   ]
  },
  {
   "cell_type": "markdown",
   "metadata": {
    "id": "bVSGr2D6KSEp"
   },
   "source": [
    "# Feature Selection"
   ]
  },
  {
   "cell_type": "code",
   "execution_count": 128,
   "metadata": {
    "id": "Fi3FxoXFKCVC"
   },
   "outputs": [],
   "source": [
    "#define the x columns and y column\n",
    "x_cols = df.columns.to_list()\n",
    "y_col = 'regency_cluster'\n",
    "x_cols.remove('regency_cluster')\n",
    "x_cols.remove('distance')"
   ]
  },
  {
   "cell_type": "code",
   "execution_count": 130,
   "metadata": {
    "id": "3U44IPQOKbVq"
   },
   "outputs": [],
   "source": [
    "from sklearn.feature_selection import SelectKBest\n",
    "from sklearn.feature_selection import chi2\n",
    "from sklearn.feature_selection import mutual_info_classif\n",
    "from sklearn.feature_selection import f_classif\n",
    "\n",
    "def create_fs(xtrain,ytrain,method):\n",
    "  fs = SelectKBest(score_func=method,k='all')\n",
    "  fs.fit(xtrain,ytrain)\n",
    "  return fs\n",
    "\n",
    "def print_fs_score(x_cols,fs):\n",
    "  for i in range(len(fs.scores_)):\n",
    "    print('Feature %s: %f' % (x_cols[i], fs.scores_[i]))"
   ]
  },
  {
   "cell_type": "code",
   "execution_count": 131,
   "metadata": {
    "colab": {
     "base_uri": "https://localhost:8080/"
    },
    "id": "32Hwulc8Kde7",
    "outputId": "7ecba2fd-437c-46e8-e647-178140583b4d"
   },
   "outputs": [],
   "source": [
    "#create feature selection using mutual information\n",
    "fs_mi = create_fs(df[x_cols],df[y_col],mutual_info_classif)"
   ]
  },
  {
   "cell_type": "code",
   "execution_count": 132,
   "metadata": {
    "colab": {
     "base_uri": "https://localhost:8080/"
    },
    "id": "84PsqItwKtV4",
    "outputId": "96ac27aa-2fca-48bc-dab0-8fb991ba6194"
   },
   "outputs": [
    {
     "name": "stdout",
     "output_type": "stream",
     "text": [
      "Feature score for mutual information feature selection\n",
      "\n",
      "Feature site: 0.126481\n",
      "Feature continent_id: 0.106386\n",
      "Feature buyer_country: 0.167690\n",
      "Feature buyer_region: 0.234650\n",
      "Feature buyer_city: 0.511225\n",
      "Feature mobile: 0.000000\n",
      "Feature package: 0.030740\n",
      "Feature channel_id: 0.016649\n",
      "Feature adults: 0.023396\n",
      "Feature children: 0.012530\n",
      "Feature room: 0.004241\n",
      "Feature destination_id: 1.416510\n",
      "Feature destination_type: 0.032782\n",
      "Feature regency_continent: 0.003482\n",
      "Feature regency_country: 0.427398\n",
      "Feature regency_market: 0.758817\n",
      "Feature day_time_date: 0.004808\n",
      "Feature month_time_date: 0.007425\n",
      "Feature year_time_date: 0.007240\n",
      "Feature day_buying_date: 0.008460\n",
      "Feature month_buying_date: 0.014674\n",
      "Feature year_buying_date: 0.009268\n",
      "Feature day_dealing_date: 0.010553\n",
      "Feature month_dealing_date: 0.009297\n",
      "Feature year_dealing_date: 0.009055\n",
      "Feature distance_bin: 0.105644\n"
     ]
    }
   ],
   "source": [
    "print(\"Feature score for mutual information feature selection\\n\")\n",
    "print_fs_score(x_cols,fs_mi)"
   ]
  },
  {
   "cell_type": "code",
   "execution_count": 134,
   "metadata": {
    "colab": {
     "base_uri": "https://localhost:8080/",
     "height": 444
    },
    "id": "UQ-q7OIkKf5i",
    "outputId": "02ca0c97-5239-4fac-ddac-e87b54897c5d"
   },
   "outputs": [
    {
     "data": {
      "image/png": "[encoded data removed]",
      "text/plain": [
       "<Figure size 1440x432 with 1 Axes>"
      ]
     },
     "metadata": {
      "needs_background": "light"
     },
     "output_type": "display_data"
    }
   ],
   "source": [
    "#plotting the feature selection result\n",
    "\n",
    "fig,ax = plt.subplots(figsize=(20,6))\n",
    "plt.bar(x_cols,fs_mi.scores_)\n",
    "plt.xticks(rotation=45)\n",
    "plt.title('Feature Score')\n",
    "plt.show()"
   ]
  },
  {
   "cell_type": "code",
   "execution_count": 21,
   "metadata": {
    "id": "audkNNh7c1I2"
   },
   "outputs": [],
   "source": [
    "#select certain columns chosen from the feature selection\n",
    "df2 = df[['site','continent_id','buyer_country','buyer_region','buyer_city','destination_id','regency_country','regency_market','distance_bin','regency_cluster']].copy()"
   ]
  },
  {
   "cell_type": "code",
   "execution_count": 22,
   "metadata": {
    "id": "cyzUo6b0fj9T"
   },
   "outputs": [],
   "source": [
    "#changing the datatypes into categories\n",
    "for col in df2.columns:\n",
    "  df2[col] = df2[col].astype('category')"
   ]
  },
  {
   "cell_type": "code",
   "execution_count": 23,
   "metadata": {
    "colab": {
     "base_uri": "https://localhost:8080/"
    },
    "id": "FwgiM452fzXa",
    "outputId": "793f7058-e2fc-4b39-ae53-2e82f9825650",
    "scrolled": true
   },
   "outputs": [
    {
     "data": {
      "text/plain": [
       "{'site': 30,\n",
       " 'continent_id': 5,\n",
       " 'buyer_country': 155,\n",
       " 'buyer_region': 653,\n",
       " 'buyer_city': 7256,\n",
       " 'destination_id': 9831,\n",
       " 'regency_country': 6,\n",
       " 'regency_market': 179,\n",
       " 'distance_bin': 5,\n",
       " 'regency_cluster': 100}"
      ]
     },
     "execution_count": 23,
     "metadata": {},
     "output_type": "execute_result"
    }
   ],
   "source": [
    "#make sure there are no class loss in the way of preprocessing\n",
    "check_classloss(df2,[],[])"
   ]
  },
  {
   "cell_type": "markdown",
   "metadata": {},
   "source": [
    "Check the balance of the target feature"
   ]
  },
  {
   "cell_type": "code",
   "execution_count": 25,
   "metadata": {
    "colab": {
     "base_uri": "https://localhost:8080/",
     "height": 395
    },
    "id": "qjR1BYP6ekMH",
    "outputId": "df2ec58f-ca46-41d7-bda3-11248834a0a3"
   },
   "outputs": [
    {
     "data": {
      "text/plain": [
       "<AxesSubplot:>"
      ]
     },
     "execution_count": 25,
     "metadata": {},
     "output_type": "execute_result"
    },
    {
     "data": {
      "image/png": "[encoded data removed]",
      "text/plain": [
       "<Figure size 1440x432 with 1 Axes>"
      ]
     },
     "metadata": {
      "needs_background": "light"
     },
     "output_type": "display_data"
    }
   ],
   "source": [
    "df2.regency_cluster.value_counts().plot(kind='bar',figsize=(20,6))"
   ]
  },
  {
   "cell_type": "markdown",
   "metadata": {
    "id": "S_FMQbNDqUH1"
   },
   "source": [
    "# Data Balancing"
   ]
  },
  {
   "cell_type": "code",
   "execution_count": 26,
   "metadata": {
    "colab": {
     "base_uri": "https://localhost:8080/"
    },
    "id": "VBu4Fw2i5MU_",
    "outputId": "6ea82f60-22ea-4b5e-aa4d-2d6bf87decf8"
   },
   "outputs": [
    {
     "name": "stdout",
     "output_type": "stream",
     "text": [
      "Class with the least value counts : 74\n",
      "with the value counts : 324\n"
     ]
    }
   ],
   "source": [
    "#class with least value counts\n",
    "valcnt = df2['regency_cluster'].value_counts()\n",
    "print(\"Class with the least value counts : \" + str(valcnt[valcnt == valcnt.min()].index[0]))\n",
    "print(\"with the value counts : \" + str(valcnt.min()))"
   ]
  },
  {
   "cell_type": "code",
   "execution_count": 27,
   "metadata": {
    "id": "k5GCuT7t65ig"
   },
   "outputs": [],
   "source": [
    "#shuffle the dataset\n",
    "df2 = df2.sample(frac=1, random_state=13519000)\n",
    "\n",
    "#get classes\n",
    "classes = df2['regency_cluster'].unique()\n",
    "\n",
    "#initial dataset\n",
    "df_balanced = df2.loc[df2['regency_cluster'] == valcnt[valcnt == valcnt.min()].index[0]]\n",
    "\n",
    "#trimming each class to 324 and concat to new dataframe\n",
    "for c in classes:\n",
    "  if c != 74:\n",
    "    trimmed_class = df2.loc[df2['regency_cluster'] == c][:valcnt.min()]\n",
    "    df_balanced = pd.concat([df_balanced,trimmed_class])"
   ]
  },
  {
   "cell_type": "code",
   "execution_count": 28,
   "metadata": {
    "colab": {
     "base_uri": "https://localhost:8080/"
    },
    "id": "qEPY68zs7mYP",
    "outputId": "1b8212b7-7cb9-4ab2-b809-023575e3606d",
    "scrolled": false
   },
   "outputs": [
    {
     "data": {
      "text/plain": [
       "{'site': 28,\n",
       " 'continent_id': 5,\n",
       " 'buyer_country': 126,\n",
       " 'buyer_region': 523,\n",
       " 'buyer_city': 4046,\n",
       " 'destination_id': 4187,\n",
       " 'regency_country': 6,\n",
       " 'regency_market': 151,\n",
       " 'distance_bin': 5,\n",
       " 'regency_cluster': 100}"
      ]
     },
     "execution_count": 28,
     "metadata": {},
     "output_type": "execute_result"
    }
   ],
   "source": [
    "check_classloss(df_balanced,[],[])"
   ]
  },
  {
   "cell_type": "markdown",
   "metadata": {},
   "source": [
    "There are class loss if undersampling is chosen\n",
    "choosing oversampling rather than undersampling to prevent any class loss, so the model would handle\n",
    "all class in the features"
   ]
  },
  {
   "cell_type": "code",
   "execution_count": 31,
   "metadata": {
    "id": "4kMjhHn8qIlr"
   },
   "outputs": [],
   "source": [
    "# OVER SAMPLING\n",
    "from collections import Counter\n",
    "from imblearn.over_sampling import SMOTENC\n",
    "from imblearn.over_sampling import SMOTEN\n",
    "\n",
    "# shuffle the dataset\n",
    "dfnew = df2.copy()\n",
    "X = dfnew.loc[:, dfnew.columns != 'regency_cluster'].copy()\n",
    "X = X.to_numpy()\n",
    "y = dfnew.loc[:, dfnew.columns == 'regency_cluster'].copy()\n",
    "y = y.to_numpy().flatten()"
   ]
  },
  {
   "cell_type": "code",
   "execution_count": 32,
   "metadata": {
    "colab": {
     "base_uri": "https://localhost:8080/"
    },
    "id": "j4epfrHKuqVn",
    "outputId": "c15a183d-6b82-4181-8fbe-0d8dfab16656"
   },
   "outputs": [
    {
     "name": "stdout",
     "output_type": "stream",
     "text": [
      "Original dataset shape (343583, 9)\n",
      "Original dataset samples per class Counter({64: 8077, 62: 7486, 46: 7195, 5: 7041, 36: 6491, 82: 6445, 30: 6386, 91: 6277, 41: 6008, 58: 5850, 61: 5849, 81: 5649, 85: 5562, 29: 5503, 99: 5451, 59: 5414, 57: 5237, 48: 5057, 83: 5021, 25: 5009, 98: 4745, 2: 4671, 21: 4627, 78: 4582, 97: 4572, 12: 4561, 9: 4559, 37: 4346, 70: 4163, 40: 4124, 63: 4120, 11: 4051, 68: 3918, 42: 3778, 10: 3769, 65: 3732, 50: 3656, 16: 3649, 95: 3646, 15: 3626, 18: 3606, 6: 3510, 28: 3457, 47: 3426, 33: 3415, 56: 3408, 20: 3356, 17: 3324, 76: 3206, 90: 3192, 51: 3186, 8: 3169, 55: 3139, 77: 3091, 72: 3085, 1: 3058, 0: 2959, 44: 2922, 96: 2907, 67: 2819, 60: 2808, 3: 2778, 26: 2749, 38: 2690, 4: 2610, 69: 2604, 22: 2587, 43: 2548, 89: 2409, 39: 2373, 13: 2320, 73: 2221, 23: 2119, 84: 2071, 92: 2032, 52: 2029, 7: 2004, 32: 2001, 19: 1952, 14: 1935, 94: 1859, 86: 1847, 79: 1827, 93: 1804, 34: 1704, 49: 1688, 80: 1636, 31: 1634, 75: 1565, 87: 1503, 53: 1471, 54: 1450, 66: 1440, 35: 1435, 45: 1406, 71: 1197, 27: 998, 88: 920, 24: 897, 74: 324})\n"
     ]
    }
   ],
   "source": [
    "print(f'Original dataset shape {X.shape}')\n",
    "# Original dataset shape (jml row, jml colom)\n",
    "print(f'Original dataset samples per class {Counter(y)}')\n",
    "# Original dataset samples per class Counter({kelas1: jml, kelas2: jml})"
   ]
  },
  {
   "cell_type": "code",
   "execution_count": 33,
   "metadata": {
    "colab": {
     "base_uri": "https://localhost:8080/"
    },
    "id": "BrMut7Mfu2EU",
    "outputId": "03f5901c-ba85-4070-a507-235c229ada4c"
   },
   "outputs": [
    {
     "name": "stdout",
     "output_type": "stream",
     "text": [
      "Resampled dataset samples per class Counter({98: 8077, 36: 8077, 99: 8077, 21: 8077, 50: 8077, 46: 8077, 77: 8077, 64: 8077, 91: 8077, 86: 8077, 5: 8077, 42: 8077, 18: 8077, 41: 8077, 59: 8077, 70: 8077, 87: 8077, 79: 8077, 17: 8077, 60: 8077, 53: 8077, 25: 8077, 62: 8077, 3: 8077, 78: 8077, 82: 8077, 45: 8077, 38: 8077, 61: 8077, 15: 8077, 26: 8077, 30: 8077, 85: 8077, 11: 8077, 0: 8077, 7: 8077, 92: 8077, 67: 8077, 22: 8077, 96: 8077, 81: 8077, 43: 8077, 23: 8077, 20: 8077, 19: 8077, 76: 8077, 72: 8077, 48: 8077, 10: 8077, 31: 8077, 29: 8077, 57: 8077, 35: 8077, 8: 8077, 16: 8077, 95: 8077, 94: 8077, 58: 8077, 83: 8077, 47: 8077, 6: 8077, 24: 8077, 54: 8077, 39: 8077, 90: 8077, 13: 8077, 89: 8077, 32: 8077, 1: 8077, 49: 8077, 68: 8077, 2: 8077, 12: 8077, 14: 8077, 97: 8077, 28: 8077, 63: 8077, 9: 8077, 40: 8077, 34: 8077, 66: 8077, 37: 8077, 80: 8077, 4: 8077, 51: 8077, 56: 8077, 44: 8077, 93: 8077, 75: 8077, 73: 8077, 33: 8077, 84: 8077, 71: 8077, 65: 8077, 52: 8077, 74: 8077, 27: 8077, 55: 8077, 88: 8077, 69: 8077})\n"
     ]
    }
   ],
   "source": [
    "# fitting using SMOTENC\n",
    "sm1 = SMOTENC(random_state=42, categorical_features=[0,1,2,3,4,5,6,7])\n",
    "X_res1, y_res1 = sm1.fit_resample(X, y)\n",
    "print(f'Resampled dataset samples per class {Counter(y_res1)}')"
   ]
  },
  {
   "cell_type": "code",
   "execution_count": 34,
   "metadata": {},
   "outputs": [
    {
     "name": "stdout",
     "output_type": "stream",
     "text": [
      "Resampled dataset samples per class Counter({98: 8077, 36: 8077, 99: 8077, 21: 8077, 50: 8077, 46: 8077, 77: 8077, 64: 8077, 91: 8077, 86: 8077, 5: 8077, 42: 8077, 18: 8077, 41: 8077, 59: 8077, 70: 8077, 87: 8077, 79: 8077, 17: 8077, 60: 8077, 53: 8077, 25: 8077, 62: 8077, 3: 8077, 78: 8077, 82: 8077, 45: 8077, 38: 8077, 61: 8077, 15: 8077, 26: 8077, 30: 8077, 85: 8077, 11: 8077, 0: 8077, 7: 8077, 92: 8077, 67: 8077, 22: 8077, 96: 8077, 81: 8077, 43: 8077, 23: 8077, 20: 8077, 19: 8077, 76: 8077, 72: 8077, 48: 8077, 10: 8077, 31: 8077, 29: 8077, 57: 8077, 35: 8077, 8: 8077, 16: 8077, 95: 8077, 94: 8077, 58: 8077, 83: 8077, 47: 8077, 6: 8077, 24: 8077, 54: 8077, 39: 8077, 90: 8077, 13: 8077, 89: 8077, 32: 8077, 1: 8077, 49: 8077, 68: 8077, 2: 8077, 12: 8077, 14: 8077, 97: 8077, 28: 8077, 63: 8077, 9: 8077, 40: 8077, 34: 8077, 66: 8077, 37: 8077, 80: 8077, 4: 8077, 51: 8077, 56: 8077, 44: 8077, 93: 8077, 75: 8077, 73: 8077, 33: 8077, 84: 8077, 71: 8077, 65: 8077, 52: 8077, 74: 8077, 27: 8077, 55: 8077, 88: 8077, 69: 8077})\n"
     ]
    }
   ],
   "source": [
    "# fitting using SMOTEN\n",
    "sm2 = SMOTEN(random_state=42)\n",
    "X_res2, y_res2 = sm2.fit_resample(X, y)\n",
    "print(f'Resampled dataset samples per class {Counter(y_res2)}')"
   ]
  },
  {
   "cell_type": "code",
   "execution_count": 35,
   "metadata": {
    "id": "m8Xrb1Nz2yip"
   },
   "outputs": [],
   "source": [
    "#balanced data\n",
    "df3 = pd.DataFrame(X_res2,columns=['site','continent_id','buyer_country','buyer_region','buyer_city','destination_id','regency_country','regency_market','distance_bin'])\n",
    "df3['regency_cluster'] = pd.Series(y_res2)"
   ]
  },
  {
   "cell_type": "code",
   "execution_count": 52,
   "metadata": {},
   "outputs": [],
   "source": [
    "#balanced data\n",
    "df4 = pd.DataFrame(X_res1,columns=['site','continent_id','buyer_country','buyer_region','buyer_city','destination_id','regency_country','regency_market','distance_bin'])\n",
    "df4['regency_cluster'] = pd.Series(y_res1)"
   ]
  },
  {
   "cell_type": "code",
   "execution_count": 38,
   "metadata": {
    "id": "b1I6XQjE4Hre"
   },
   "outputs": [],
   "source": [
    "#changing the datatypes into categories\n",
    "for col in df3.columns:\n",
    "  df3[col] = df3[col].astype(int).astype('category')"
   ]
  },
  {
   "cell_type": "code",
   "execution_count": 53,
   "metadata": {},
   "outputs": [],
   "source": [
    "#changing the datatypes into categories\n",
    "for col in df4.columns:\n",
    "  df4[col] = df4[col].astype(int).astype('category')"
   ]
  },
  {
   "cell_type": "code",
   "execution_count": 39,
   "metadata": {
    "colab": {
     "base_uri": "https://localhost:8080/",
     "height": 395
    },
    "id": "liM5Ee483qO_",
    "outputId": "e56e4a12-1100-4d35-d7d3-be7a4a08ee07"
   },
   "outputs": [
    {
     "data": {
      "text/plain": [
       "<AxesSubplot:>"
      ]
     },
     "execution_count": 39,
     "metadata": {},
     "output_type": "execute_result"
    },
    {
     "data": {
      "image/png": "[encoded data removed]",
      "text/plain": [
       "<Figure size 1440x432 with 1 Axes>"
      ]
     },
     "metadata": {
      "needs_background": "light"
     },
     "output_type": "display_data"
    }
   ],
   "source": [
    "#plotting the bar\n",
    "df3['regency_cluster'].value_counts().plot(kind='bar',figsize=(20,6))"
   ]
  },
  {
   "cell_type": "code",
   "execution_count": 40,
   "metadata": {
    "colab": {
     "base_uri": "https://localhost:8080/"
    },
    "id": "gVI7Gydo7e93",
    "outputId": "986fc09c-27da-42ff-c515-33be0f198b2e",
    "scrolled": false
   },
   "outputs": [
    {
     "data": {
      "text/plain": [
       "{'site': 30,\n",
       " 'continent_id': 5,\n",
       " 'buyer_country': 155,\n",
       " 'buyer_region': 653,\n",
       " 'buyer_city': 7256,\n",
       " 'destination_id': 9831,\n",
       " 'regency_country': 6,\n",
       " 'regency_market': 179,\n",
       " 'distance_bin': 5,\n",
       " 'regency_cluster': 100}"
      ]
     },
     "execution_count": 40,
     "metadata": {},
     "output_type": "execute_result"
    }
   ],
   "source": [
    "check_classloss(df3,[],[])"
   ]
  },
  {
   "cell_type": "markdown",
   "metadata": {},
   "source": [
    "# Modelling"
   ]
  },
  {
   "cell_type": "code",
   "execution_count": 137,
   "metadata": {
    "id": "qBMIJoyr97J8"
   },
   "outputs": [],
   "source": [
    "x_cols = df3.columns.to_list()\n",
    "x_cols.remove('regency_cluster')\n",
    "y_col = 'regency_cluster'"
   ]
  },
  {
   "cell_type": "code",
   "execution_count": 42,
   "metadata": {
    "id": "5HDgBOxwCeA0"
   },
   "outputs": [],
   "source": [
    "# Import the model we are using\n",
    "from sklearn.ensemble import RandomForestClassifier\n",
    "from sklearn.model_selection import cross_val_score\n",
    "\n",
    "# Instantiate model with 30 decision trees using entropy\n",
    "rf1 = RandomForestClassifier(n_estimators = 30, random_state = 13519000, criterion='entropy')\n",
    "\n",
    "# rf1.fit(x_train,y_train)\n",
    "\n",
    "# Instantiate model with 30 decision trees using gini\n",
    "rf2 = RandomForestClassifier(n_estimators = 30, random_state = 13519000, criterion='entropy')\n",
    "\n",
    "# rf2.fit(x_train,y_train)"
   ]
  },
  {
   "cell_type": "code",
   "execution_count": 48,
   "metadata": {},
   "outputs": [],
   "source": [
    "#SMOTENed dataset\n",
    "df3_x = df3[x_cols].copy()\n",
    "df3_y = df3[y_col].copy()"
   ]
  },
  {
   "cell_type": "code",
   "execution_count": 54,
   "metadata": {},
   "outputs": [],
   "source": [
    "#SMOTENC-ed dataset\n",
    "df4_x = df4[x_cols].copy()\n",
    "df4_y = df4[y_col].copy()"
   ]
  },
  {
   "cell_type": "code",
   "execution_count": 81,
   "metadata": {},
   "outputs": [],
   "source": [
    "#imbalance dataset\n",
    "df2_x = df2[x_cols].copy()\n",
    "df2_y = df2[y_col].copy()"
   ]
  },
  {
   "cell_type": "markdown",
   "metadata": {},
   "source": [
    "# Validation"
   ]
  },
  {
   "cell_type": "code",
   "execution_count": 50,
   "metadata": {},
   "outputs": [],
   "source": [
    "scores_entropy = cross_val_score(rf1, df3_x, df3_y, cv=10)\n",
    "scores_gini = cross_val_score(rf2, df3_x, df3_y, cv=10)"
   ]
  },
  {
   "cell_type": "code",
   "execution_count": 55,
   "metadata": {
    "scrolled": true
   },
   "outputs": [
    {
     "name": "stdout",
     "output_type": "stream",
     "text": [
      "[0.33892534 0.35124427 0.41281416 0.46211465 0.52484833 0.55373282\n",
      " 0.5688003  0.57953448 0.58427634 0.58718584]\n"
     ]
    }
   ],
   "source": [
    "print(scores_entropy)"
   ]
  },
  {
   "cell_type": "code",
   "execution_count": 56,
   "metadata": {},
   "outputs": [
    {
     "name": "stdout",
     "output_type": "stream",
     "text": [
      "[0.33892534 0.35124427 0.41281416 0.46211465 0.52484833 0.55373282\n",
      " 0.5688003  0.57953448 0.58427634 0.58718584]\n"
     ]
    }
   ],
   "source": [
    "print(scores_gini)"
   ]
  },
  {
   "cell_type": "code",
   "execution_count": 68,
   "metadata": {},
   "outputs": [],
   "source": [
    "scores_entropy2 = cross_val_score(rf1, df4_x, df4_y, cv=10)\n",
    "scores_gini2 = cross_val_score(rf2, df4_x, df4_y, cv=10)"
   ]
  },
  {
   "cell_type": "code",
   "execution_count": 69,
   "metadata": {
    "scrolled": true
   },
   "outputs": [
    {
     "name": "stdout",
     "output_type": "stream",
     "text": [
      "[0.35752136 0.36668317 0.40974372 0.44803764 0.49144484 0.51259131\n",
      " 0.52536833 0.53549585 0.53793488 0.53909868]\n"
     ]
    }
   ],
   "source": [
    "print(scores_entropy2)"
   ]
  },
  {
   "cell_type": "code",
   "execution_count": 70,
   "metadata": {
    "scrolled": false
   },
   "outputs": [
    {
     "name": "stdout",
     "output_type": "stream",
     "text": [
      "[0.35752136 0.36668317 0.40974372 0.44803764 0.49144484 0.51259131\n",
      " 0.52536833 0.53549585 0.53793488 0.53909868]\n"
     ]
    }
   ],
   "source": [
    "print(scores_gini2)"
   ]
  },
  {
   "cell_type": "code",
   "execution_count": 82,
   "metadata": {},
   "outputs": [],
   "source": [
    "scores_entropy3 = cross_val_score(rf1, df2_x, df2_y, cv=10)\n",
    "scores_gini3 = cross_val_score(rf2, df2_x, df2_y, cv=10)"
   ]
  },
  {
   "cell_type": "code",
   "execution_count": 89,
   "metadata": {
    "scrolled": true
   },
   "outputs": [
    {
     "name": "stdout",
     "output_type": "stream",
     "text": [
      "Random Forest Classifier:\n",
      "Accuracy for using SMOTEN-ed dataset using entropy criterion: 49.63476538318684 %\n",
      "Accuracy for using SMOTEN-ed dataset using gini criterion: 49.63476538318684 %\n"
     ]
    }
   ],
   "source": [
    "print(\"Random Forest Classifier:\")\n",
    "print(\"Accuracy for using SMOTEN-ed dataset using entropy criterion:\", scores_entropy.mean()*100, \"%\")\n",
    "print(\"Accuracy for using SMOTEN-ed dataset using gini criterion:\", scores_gini.mean()*100, \"%\")"
   ]
  },
  {
   "cell_type": "code",
   "execution_count": 90,
   "metadata": {
    "scrolled": true
   },
   "outputs": [
    {
     "name": "stdout",
     "output_type": "stream",
     "text": [
      "Random Forest Classifier:\n",
      "Accuracy for using SMOTENC-ed dataset using entropy criterion: 47.23919772192646 %\n",
      "Accuracy for using SMOTENC-ed dataset using gini criterion: 47.23919772192646 %\n"
     ]
    }
   ],
   "source": [
    "print(\"Random Forest Classifier:\")\n",
    "print(\"Accuracy for using SMOTENC-ed dataset using entropy criterion:\", scores_entropy2.mean()*100, \"%\")\n",
    "print(\"Accuracy for using SMOTENC-ed dataset using gini criterion:\", scores_gini2.mean()*100, \"%\")"
   ]
  },
  {
   "cell_type": "code",
   "execution_count": 96,
   "metadata": {},
   "outputs": [
    {
     "name": "stdout",
     "output_type": "stream",
     "text": [
      "Random Forest Classifier:\n",
      "Accuracy for using imbalance dataset using entropy criterion: 28.226368070840703 %\n",
      "Accuracy for using imbalance dataset using gini criterion: 28.226368070840703 %\n"
     ]
    }
   ],
   "source": [
    "print(\"Random Forest Classifier:\")\n",
    "print(\"Accuracy for using imbalance dataset using entropy criterion:\", scores_entropy3.mean()*100, \"%\")\n",
    "print(\"Accuracy for using imbalance dataset using gini criterion:\", scores_gini3.mean()*100, \"%\")"
   ]
  },
  {
   "cell_type": "code",
   "execution_count": 84,
   "metadata": {},
   "outputs": [],
   "source": [
    "from sklearn.tree import DecisionTreeClassifier\n",
    "\n",
    "dt1 = DecisionTreeClassifier(criterion='entropy', random_state=13519000)\n",
    "\n",
    "dt2 = DecisionTreeClassifier(criterion='gini', random_state=13519000)"
   ]
  },
  {
   "cell_type": "code",
   "execution_count": 85,
   "metadata": {},
   "outputs": [],
   "source": [
    "scores_entropy_dt1 = cross_val_score(dt1, df3_x, df3_y, cv=10)\n",
    "scores_gini_dt1 = cross_val_score(dt2, df3_x, df3_y, cv=10)"
   ]
  },
  {
   "cell_type": "code",
   "execution_count": 92,
   "metadata": {},
   "outputs": [
    {
     "name": "stdout",
     "output_type": "stream",
     "text": [
      "Decision Tree Classifier:\n",
      "Accuracy for using SMOTEN-ed dataset using entropy criterion: 49.81775411662747 %\n",
      "Accuracy for using SMOTEN-ed dataset using gini criterion: 49.779868763154624 %\n"
     ]
    }
   ],
   "source": [
    "print(\"Decision Tree Classifier:\")\n",
    "print(\"Accuracy for using SMOTEN-ed dataset using entropy criterion:\", scores_entropy_dt1.mean()*100, \"%\")\n",
    "print(\"Accuracy for using SMOTEN-ed dataset using gini criterion:\", scores_gini_dt1.mean()*100, \"%\")"
   ]
  },
  {
   "cell_type": "code",
   "execution_count": 87,
   "metadata": {},
   "outputs": [],
   "source": [
    "scores_entropy_dt2 = cross_val_score(dt1, df4_x, df4_y, cv=10)\n",
    "scores_gini_dt2 = cross_val_score(dt2, df4_x, df4_y, cv=10)"
   ]
  },
  {
   "cell_type": "code",
   "execution_count": 93,
   "metadata": {},
   "outputs": [
    {
     "name": "stdout",
     "output_type": "stream",
     "text": [
      "Decision Tree Classifier:\n",
      "Accuracy for using SMOTENC-ed dataset using entropy criterion: 47.297635260616566 %\n",
      "Accuracy for using SMOTENC-ed dataset using gini criterion: 47.1994552432834 %\n"
     ]
    }
   ],
   "source": [
    "print(\"Decision Tree Classifier:\")\n",
    "print(\"Accuracy for using SMOTENC-ed dataset using entropy criterion:\", scores_entropy_dt2.mean()*100, \"%\")\n",
    "print(\"Accuracy for using SMOTENC-ed dataset using gini criterion:\", scores_gini_dt2.mean()*100, \"%\")"
   ]
  },
  {
   "cell_type": "code",
   "execution_count": 88,
   "metadata": {},
   "outputs": [],
   "source": [
    "scores_entropy_dt3 = cross_val_score(dt1, df2_x, df2_y, cv=10)\n",
    "scores_gini_dt3 = cross_val_score(dt2, df2_x, df2_y, cv=10)"
   ]
  },
  {
   "cell_type": "code",
   "execution_count": 95,
   "metadata": {
    "scrolled": true
   },
   "outputs": [
    {
     "name": "stdout",
     "output_type": "stream",
     "text": [
      "Decision Tree Classifier:\n",
      "Accuracy for using imbalance dataset using entropy criterion: 28.409439088215382 %\n",
      "Accuracy for using imbalance dataset using gini criterion: 28.380333463333457 %\n"
     ]
    }
   ],
   "source": [
    "print(\"Decision Tree Classifier:\")\n",
    "print(\"Accuracy for using imbalance dataset using entropy criterion:\", scores_entropy_dt3.mean()*100, \"%\")\n",
    "print(\"Accuracy for using imbalance dataset using gini criterion:\", scores_gini_dt3.mean()*100, \"%\")"
   ]
  },
  {
   "cell_type": "markdown",
   "metadata": {},
   "source": [
    "# Predict"
   ]
  },
  {
   "cell_type": "code",
   "execution_count": 105,
   "metadata": {},
   "outputs": [],
   "source": [
    "def prediction(model,df,xcols,ycol):\n",
    "    df_ = df.copy()\n",
    "    df_['distance_bin'] = pd.cut(df_.distance,[0.0046, 326.593, 1100.383, 2808.036, 11761.396],labels=[0,1,2,3])\n",
    "    df_['distance_bin'] = df_.distance_bin.cat.add_categories(-1)\n",
    "    df_['distance_bin'] = df_.distance_bin.fillna(value=-1)\n",
    "    df_2 = df_[xcols]\n",
    "    df_[ycol] = model.predict(df_2)\n",
    "    return df_[['id',ycol]]"
   ]
  },
  {
   "cell_type": "code",
   "execution_count": 98,
   "metadata": {},
   "outputs": [],
   "source": [
    "submission = pd.read_csv('Test.csv')\n",
    "del submission['Unnamed: 0']"
   ]
  },
  {
   "cell_type": "code",
   "execution_count": 99,
   "metadata": {},
   "outputs": [
    {
     "data": {
      "text/plain": [
       "DecisionTreeClassifier(criterion='entropy', random_state=13519000)"
      ]
     },
     "execution_count": 99,
     "metadata": {},
     "output_type": "execute_result"
    }
   ],
   "source": [
    "#decision tree with SMOTEN-ed dataset and entropy criterion is chosen\n",
    "\n",
    "#fit the model\n",
    "dt1.fit(df3_x,df3_y)"
   ]
  },
  {
   "cell_type": "code",
   "execution_count": 106,
   "metadata": {},
   "outputs": [],
   "source": [
    "#predict\n",
    "submission_result = prediction(dt1,submission,x_cols,y_col)"
   ]
  },
  {
   "cell_type": "code",
   "execution_count": 147,
   "metadata": {},
   "outputs": [],
   "source": [
    "#create csv file of the prediction\n",
    "submission_result.to_csv('DecisionTreeSubmission.csv', index=False)"
   ]
  },
  {
   "cell_type": "code",
   "execution_count": null,
   "metadata": {},
   "outputs": [],
   "source": []
  }
 ],
 "metadata": {
  "colab": {
   "name": "Untitled0.ipynb",
   "provenance": []
  },
  "kernelspec": {
   "display_name": "Python 3",
   "language": "python",
   "name": "python3"
  },
  "language_info": {
   "codemirror_mode": {
    "name": "ipython",
    "version": 3
   },
   "file_extension": ".py",
   "mimetype": "text/x-python",
   "name": "python",
   "nbconvert_exporter": "python",
   "pygments_lexer": "ipython3",
   "version": "3.8.5"
  }
 },
 "nbformat": 4,
 "nbformat_minor": 1
}
